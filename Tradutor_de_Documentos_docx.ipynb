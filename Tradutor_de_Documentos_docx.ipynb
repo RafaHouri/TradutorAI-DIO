{
  "cells": [
    {
      "cell_type": "markdown",
      "metadata": {
        "id": "view-in-github",
        "colab_type": "text"
      },
      "source": [
        "<a href=\"https://colab.research.google.com/github/RafaHouri/TradutorAI-DIO/blob/main/Tradutor_de_Documentos_docx.ipynb\" target=\"_parent\"><img src=\"https://colab.research.google.com/assets/colab-badge.svg\" alt=\"Open In Colab\"/></a>"
      ]
    },
    {
      "cell_type": "code",
      "source": [
        "!pip install requests python-docx"
      ],
      "metadata": {
        "colab": {
          "base_uri": "https://localhost:8080/"
        },
        "id": "YIoPCpMdqoOh",
        "outputId": "28745fbd-d507-455b-a484-89cc7c0a36b1"
      },
      "execution_count": 1,
      "outputs": [
        {
          "output_type": "stream",
          "name": "stdout",
          "text": [
            "Requirement already satisfied: requests in /usr/local/lib/python3.10/dist-packages (2.32.3)\n",
            "Collecting python-docx\n",
            "  Downloading python_docx-1.1.2-py3-none-any.whl.metadata (2.0 kB)\n",
            "Requirement already satisfied: charset-normalizer<4,>=2 in /usr/local/lib/python3.10/dist-packages (from requests) (3.4.0)\n",
            "Requirement already satisfied: idna<4,>=2.5 in /usr/local/lib/python3.10/dist-packages (from requests) (3.10)\n",
            "Requirement already satisfied: urllib3<3,>=1.21.1 in /usr/local/lib/python3.10/dist-packages (from requests) (2.2.3)\n",
            "Requirement already satisfied: certifi>=2017.4.17 in /usr/local/lib/python3.10/dist-packages (from requests) (2024.8.30)\n",
            "Requirement already satisfied: lxml>=3.1.0 in /usr/local/lib/python3.10/dist-packages (from python-docx) (5.3.0)\n",
            "Requirement already satisfied: typing-extensions>=4.9.0 in /usr/local/lib/python3.10/dist-packages (from python-docx) (4.12.2)\n",
            "Downloading python_docx-1.1.2-py3-none-any.whl (244 kB)\n",
            "\u001b[2K   \u001b[90m━━━━━━━━━━━━━━━━━━━━━━━━━━━━━━━━━━━━━━━━\u001b[0m \u001b[32m244.3/244.3 kB\u001b[0m \u001b[31m4.7 MB/s\u001b[0m eta \u001b[36m0:00:00\u001b[0m\n",
            "\u001b[?25hInstalling collected packages: python-docx\n",
            "Successfully installed python-docx-1.1.2\n"
          ]
        }
      ]
    },
    {
      "cell_type": "code",
      "source": [
        "import requests\n",
        "from docx import Document\n",
        "import os\n",
        "\n",
        "subscription_key = \"",
        "endpoint = ''\n",
        "location = \"eastus\"\n",
        "target_language = 'pt-br'\n",
        "\n",
        "def translator_text(text, target_language):\n",
        "  path = '/translate'\n",
        "  constructed_url = endpoint + path\n",
        "  headers = {\n",
        "      'Ocp-Apim-Subscription-Key': subscription_key,\n",
        "      'Ocp-Apim-Subscription-Region': location,\n",
        "      'Content-type': 'application/json',\n",
        "      'X-ClientTraceId': str(os.urandom(16))\n",
        "\n",
        "  }\n",
        "\n",
        "  body = [{\n",
        "      'text': text\n",
        "  }]\n",
        "\n",
        "  params = {\n",
        "      'api-version': '3.0',\n",
        "      'from': 'en',\n",
        "      'to': target_language\n",
        "  }\n",
        "\n",
        "  request = requests.post(constructed_url, headers=headers, json=body)\n",
        "  response = request.json()\n",
        "  return response[0][\"translations\"][0][\"text\"]\n"
      ],
      "metadata": {
        "id": "fY4AI1HzqxIQ"
      },
      "execution_count": 3,
      "outputs": []
    },
    {
      "cell_type": "code",
      "source": [
        "def translator_text(text, target_language):\n",
        "  path = '/translate'\n",
        "  constructed_url = endpoint + path\n",
        "  headers = {\n",
        "      'Ocp-Apim-Subscription-Key': subscription_key,\n",
        "      'Ocp-Apim-Subscription-Region': location,\n",
        "      'Content-type': 'application/json',\n",
        "      'X-ClientTraceId': str(os.urandom(16))\n",
        "\n",
        "  }\n",
        "\n",
        "  body = [{\n",
        "      'text': text\n",
        "  }]\n",
        "\n",
        "  params = {\n",
        "      'api-version': '3.0',\n",
        "      'from': 'en',\n",
        "      'to': target_language\n",
        "  }\n",
        "\n",
        "  request = requests.post(constructed_url, headers=headers, json=body, params=params) # Added params to the request\n",
        "  response = request.json()\n",
        "\n",
        "  # Check if the response is a list and contains the expected keys\n",
        "  if isinstance(response, list) and response and \"translations\" in response[0] and response[0][\"translations\"] and \"text\" in response[0][\"translations\"][0]:\n",
        "    return response[0][\"translations\"][0][\"text\"]\n",
        "  else:\n",
        "    print(f\"Unexpected API response: {response}\") # Print the response for debugging\n",
        "    return \"\" # Or handle the error in a more appropriate way\n",
        "\n",
        "def translate_document(path):\n",
        "    document = Document(path)\n",
        "    full_text = []\n",
        "    for paragraph in document.paragraphs:\n",
        "        translated_text = translator_text(paragraph.text, target_language)\n",
        "        full_text.append(translated_text)\n",
        "\n",
        "    # Create a new document for the translated text\n",
        "    translated_doc = Document()\n",
        "    for line in full_text:\n",
        "        translated_doc.add_paragraph(line)\n",
        "\n",
        "    path_translated = path.replace(\".docx\", f\"_{target_language}.docx\")\n",
        "    translated_doc.save(path_translated)\n",
        "\n",
        "    # Retorna a lista com as traduções\n",
        "    return full_text\n",
        "\n",
        "input_file = \"/content/CHIHIRO.docx\"\n",
        "translated_text_list = translate_document(input_file)\n",
        "\n",
        "# Imprime a tradução na página\n",
        "for line in translated_text_list:\n",
        "    print(line)"
      ],
      "metadata": {
        "colab": {
          "base_uri": "https://localhost:8080/"
        },
        "id": "VZtXNdQ22Zml",
        "outputId": "1f34fcab-feb2-4d26-946a-34f2aaea4a15"
      },
      "execution_count": null,
      "outputs": [
        {
          "output_type": "stream",
          "name": "stdout",
          "text": [
            "Para levar meu amor embora\n",
            "Quando eu voltar, saberei o que dizer?\n",
            "Disse que você não vai esquecer meu nome\n",
            "Nem hoje, nem amanhã\n",
            "Meio estranho, sentindo tristeza\n",
            "Eu tenho troco (sim), você poderia pedir emprestado (emprestar)\n",
            "Quando eu voltar, saberei o que dizer?\n",
            "Não hoje, talvez amanhã\n",
            "Abra a porta, você pode abrir a porta?\n",
            "Eu sei que você disse antes que você não pode lidar com mais nada\n",
            "Você me disse que era guerra, disse que me mostraria o que está reservado\n",
            "Espero que não seja certo, você pode abrir a porta?\n",
            "Você tomou\n",
            "Meu amor de distância\n",
            "De mim? Me\n",
            "Me\n",
            "Vi seu assento no balcão quando desviei o olhar\n",
            "Vi você se virar, mas não era o seu rosto\n",
            "Disse: \"Eu preciso ficar sozinho agora, estou fazendo uma pausa\"\n",
            "Como é que, quando voltei, você foi embora?\n",
            "Eu não, eu não sei por que eu liguei\n",
            "Eu não te conheço de jeito nenhum\n",
            "Eu não te conheço\n",
            "De modo algum\n",
            "Eu não, eu não sei por que eu liguei\n",
            "Eu não te conheço de jeito nenhum\n",
            "Eu não te conheço\n",
            "Você tomou\n",
            "Meu amor de distância\n",
            "De mim? Me\n",
            "E foi aí que você me encontrou\n",
            "Eu estava esperando no jardim\n",
            "Contemplando, implore seu perdão\n",
            "Mas há uma parte de mim que te reconhece\n",
            "Você também sente isso?\n",
            "Quando você me disse que era sério\n",
            "Você estava falando sério? Milímetro\n",
            "Eles me disseram que estavam apenas curiosos\n",
            "Agora é sério, hm\n",
            "Abra a porta, você pode abrir a porta?\n",
            "Eu sei que você disse antes que você não pode lidar com mais nada\n",
            "Você me disse que era guerra, disse que me mostraria o que está reservado\n",
            "Espero que não seja certo, você pode abrir a porta?\n",
            "Torcendo minhas mãos no meu colo\n",
            "E eles me dizem que tudo tem sido uma armadilha\n",
            "E você não sabe se vai conseguir voltar\n",
            "Eu disse: \"Não, não diga isso\"\n",
            "Hm-hm\n",
            "\n"
          ]
        }
      ]
    }
  ],
  "metadata": {
    "colab": {
      "provenance": [],
      "include_colab_link": true
    },
    "kernelspec": {
      "display_name": "Python 3",
      "name": "python3"
    }
  },
  "nbformat": 4,
  "nbformat_minor": 0
}
